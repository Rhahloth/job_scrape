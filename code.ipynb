{
 "cells": [
  {
   "cell_type": "code",
   "execution_count": 4,
   "id": "0262e84a-2c78-40ea-a7b6-252f778a6a7b",
   "metadata": {},
   "outputs": [],
   "source": [
    "import pandas as pd\n",
    "import requests\n",
    "from bs4 import BeautifulSoup\n",
    "import time"
   ]
  },
  {
   "cell_type": "code",
   "execution_count": 6,
   "id": "2bc8b3e1-5baf-4ed8-8f11-12b506e8d445",
   "metadata": {},
   "outputs": [
    {
     "name": "stdin",
     "output_type": "stream",
     "text": [
      "Enter a number between 1 and 20:  20\n"
     ]
    },
    {
     "name": "stdout",
     "output_type": "stream",
     "text": [
      "Please make some coffe while we scrape 20 pages\n"
     ]
    },
    {
     "name": "stdin",
     "output_type": "stream",
     "text": [
      "Do you want to proceed (YES/NO) yes\n"
     ]
    },
    {
     "name": "stdout",
     "output_type": "stream",
     "text": [
      "Currently scraping: 1\n",
      "Currently scraping: 2\n",
      "Currently scraping: 3\n",
      "Currently scraping: 4\n",
      "Currently scraping: 5\n",
      "Currently scraping: 6\n",
      "Currently scraping: 7\n",
      "Currently scraping: 8\n",
      "Currently scraping: 9\n",
      "Currently scraping: 10\n",
      "Currently scraping: 11\n",
      "Currently scraping: 12\n",
      "Currently scraping: 13\n",
      "Currently scraping: 14\n",
      "Currently scraping: 15\n",
      "Currently scraping: 16\n",
      "Currently scraping: 17\n",
      "Currently scraping: 18\n",
      "Currently scraping: 19\n",
      "Currently scraping: 20\n",
      "Total jobs scraped: 380\n"
     ]
    }
   ],
   "source": [
    "# a while loop that will only take page numbers from 1 to 20\n",
    "while True:\n",
    "    try:\n",
    "        num = int(input('Enter a number between 1 and 20: '))\n",
    "        if num < 1 or num > 20:\n",
    "            print('Please enter a number between 1 and 20')\n",
    "        else:\n",
    "            break\n",
    "    except ValueError:\n",
    "        print('INVALID: You should enter a number')\n",
    "\n",
    "# we want to tell them it will take a while to scrape the pages\n",
    "if num > 15:\n",
    "    print(f\"Please make some coffe while we scrape {num} pages\")\n",
    "elif num > 10:\n",
    "    print(f\"It may take more than 5 minutes to scrape {num} pages \")\n",
    "elif num >0:\n",
    "    print(f'It may take approximately 2 munites to scrape {num} pages')\n",
    "\n",
    "confirm = input('Do you want to proceed (YES/NO)').strip().lower()\n",
    "if confirm.startswith('y'):\n",
    "    page_no = 1\n",
    "    job_list = []\n",
    "\n",
    "    while True:\n",
    "        print(f\"Currently scraping: {page_no}\")\n",
    "        url = 'https://everjobs.ug/page/'+str(page_no)+'/'\n",
    "        page = requests.get(url)\n",
    "        soup = BeautifulSoup(page.text, 'html.parser')\n",
    "        page_no += 1\n",
    "    \n",
    "        if page_no > num:\n",
    "            break\n",
    "            \n",
    "        job_table = soup.select('table', id=\"wpjb-job-list\")\n",
    "        for job in job_table:\n",
    "            job_info = job.find_all('tr')\n",
    "            for job in job_info:\n",
    "                try:\n",
    "                    items = {}\n",
    "                    items['Job Title'] = job.find('a').text\n",
    "                    items['Company'] = job.find('small').text.strip()\n",
    "                    items['Location'] = job.find('td',class_=\"wpjb-column-location\").text.strip().split(',')[0]\n",
    "                    items['Job type'] = job.find('td',class_=\"wpjb-column-location\").text.strip().split('\\n\\n')[-1]\n",
    "                    items['Date'] = job.find('td', class_=\"wpjb-column-date wpjb-last\").text.strip().split('\\n')[0]\n",
    "                    items['Link'] = job.find('a').get('href')\n",
    "                    items['Recency'] = job.find('td', class_=\"wpjb-column-date wpjb-last\").text.strip().split('\\n')[-1]\n",
    "                    job_list.append(items)\n",
    "                    \n",
    "                except AttributeError:\n",
    "                    print(\"Skipping an incomplete job posting.\")\n",
    "                time.sleep(1)\n",
    "    # Optional: print the number of jobs scraped\n",
    "    print(f\"Total jobs scraped: {len(job_list)}\")\n",
    "else:\n",
    "    print('Sorry to see you go')"
   ]
  },
  {
   "cell_type": "code",
   "execution_count": 8,
   "id": "c54bd6d8-ab6f-4cda-ac67-12b6d3f34b3e",
   "metadata": {},
   "outputs": [
    {
     "data": {
      "text/html": [
       "<div>\n",
       "<style scoped>\n",
       "    .dataframe tbody tr th:only-of-type {\n",
       "        vertical-align: middle;\n",
       "    }\n",
       "\n",
       "    .dataframe tbody tr th {\n",
       "        vertical-align: top;\n",
       "    }\n",
       "\n",
       "    .dataframe thead th {\n",
       "        text-align: right;\n",
       "    }\n",
       "</style>\n",
       "<table border=\"1\" class=\"dataframe\">\n",
       "  <thead>\n",
       "    <tr style=\"text-align: right;\">\n",
       "      <th></th>\n",
       "      <th>Job Title</th>\n",
       "      <th>Company</th>\n",
       "      <th>Location</th>\n",
       "      <th>Job type</th>\n",
       "      <th>Date</th>\n",
       "      <th>Recency</th>\n",
       "      <th>Link</th>\n",
       "    </tr>\n",
       "  </thead>\n",
       "  <tbody>\n",
       "    <tr>\n",
       "      <th>0</th>\n",
       "      <td>Senior Human Resource Officer</td>\n",
       "      <td>Smart Applications International Uganda</td>\n",
       "      <td>Kampala</td>\n",
       "      <td>Full-time</td>\n",
       "      <td>Jan, 31</td>\n",
       "      <td>Jan, 31</td>\n",
       "      <td>https://everjobs.ug/job/senior-human-resource-...</td>\n",
       "    </tr>\n",
       "    <tr>\n",
       "      <th>1</th>\n",
       "      <td>Senior Education Assistant</td>\n",
       "      <td>Kassanda District Local Government</td>\n",
       "      <td>Kassanda</td>\n",
       "      <td>Full-time</td>\n",
       "      <td>Feb, 07</td>\n",
       "      <td>New</td>\n",
       "      <td>https://everjobs.ug/job/senior-education-assis...</td>\n",
       "    </tr>\n",
       "  </tbody>\n",
       "</table>\n",
       "</div>"
      ],
      "text/plain": [
       "                       Job Title                                  Company  \\\n",
       "0  Senior Human Resource Officer  Smart Applications International Uganda   \n",
       "1     Senior Education Assistant       Kassanda District Local Government   \n",
       "\n",
       "   Location   Job type     Date  Recency  \\\n",
       "0   Kampala  Full-time  Jan, 31  Jan, 31   \n",
       "1  Kassanda  Full-time  Feb, 07      New   \n",
       "\n",
       "                                                Link  \n",
       "0  https://everjobs.ug/job/senior-human-resource-...  \n",
       "1  https://everjobs.ug/job/senior-education-assis...  "
      ]
     },
     "execution_count": 8,
     "metadata": {},
     "output_type": "execute_result"
    }
   ],
   "source": [
    "df = pd.DataFrame(job_list)\n",
    "df.drop_duplicates(subset = ['Job Title', 'Company', 'Location', 'Date'], inplace = True)\n",
    "df.head(2)"
   ]
  },
  {
   "cell_type": "code",
   "execution_count": 10,
   "id": "68ee26ef-7044-493c-afcf-4ea4a84a94ba",
   "metadata": {},
   "outputs": [],
   "source": [
    "df.to_excel('Job List.xlsx', index = False)"
   ]
  },
  {
   "cell_type": "code",
   "execution_count": 12,
   "id": "dca975c0-160f-4221-97ce-515a70de5af0",
   "metadata": {},
   "outputs": [],
   "source": [
    "fav = ['data', 'monitoring', 'analyst', 'M&E', 'teach']\n",
    "loc = ['Lira', 'Gulu', 'Soroti']\n",
    "\n",
    "df_list = []\n",
    "for i in fav:\n",
    "    data = df[(df['Job Title'].str.contains(i, case = False)) | (df['Location'].isin(loc))]\n",
    "    #append each data frame in a list\n",
    "    df_list.append(data)\n",
    "\n",
    "\n",
    "# a list of data frame to one data frame\n",
    "my_list = pd.concat(df_list)\n",
    "\n",
    "#drop the duplicates\n",
    "my_list.drop_duplicates(subset = ['Job Title', 'Company', 'Location', 'Date'], inplace = True)"
   ]
  },
  {
   "cell_type": "code",
   "execution_count": 14,
   "id": "05d70a1b-e825-4114-b933-ded620c750b2",
   "metadata": {},
   "outputs": [],
   "source": [
    "my_list.to_excel('data_related.xlsx', index = False)"
   ]
  },
  {
   "cell_type": "code",
   "execution_count": null,
   "id": "c548ef9c-f09e-435e-bf82-77e3ec9d3db9",
   "metadata": {},
   "outputs": [],
   "source": []
  }
 ],
 "metadata": {
  "kernelspec": {
   "display_name": "Python 3 (ipykernel)",
   "language": "python",
   "name": "python3"
  },
  "language_info": {
   "codemirror_mode": {
    "name": "ipython",
    "version": 3
   },
   "file_extension": ".py",
   "mimetype": "text/x-python",
   "name": "python",
   "nbconvert_exporter": "python",
   "pygments_lexer": "ipython3",
   "version": "3.12.3"
  }
 },
 "nbformat": 4,
 "nbformat_minor": 5
}
