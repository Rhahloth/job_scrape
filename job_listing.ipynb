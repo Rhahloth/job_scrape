{
 "cells": [
  {
   "cell_type": "code",
   "execution_count": 2,
   "id": "0262e84a-2c78-40ea-a7b6-252f778a6a7b",
   "metadata": {},
   "outputs": [],
   "source": [
    "import pandas as pd\n",
    "import requests\n",
    "from bs4 import BeautifulSoup\n",
    "import time"
   ]
  },
  {
   "cell_type": "code",
   "execution_count": 10,
   "id": "2bc8b3e1-5baf-4ed8-8f11-12b506e8d445",
   "metadata": {},
   "outputs": [
    {
     "name": "stdout",
     "output_type": "stream",
     "text": [
      "Currently scraping: 1\n",
      "Currently scraping: 2\n",
      "Currently scraping: 3\n",
      "Total jobs scraped: 40\n"
     ]
    }
   ],
   "source": [
    "page_no = 1\n",
    "job_list = []\n",
    "\n",
    "while True:\n",
    "    print(f\"Currently scraping: {page_no}\")\n",
    "    url = 'https://everjobs.ug/page/'+str(page_no)+'/'\n",
    "    page = requests.get(url)\n",
    "    soup = BeautifulSoup(page.text, 'html.parser')\n",
    "    page_no += 1\n",
    "\n",
    "    if page_no >3:\n",
    "        break\n",
    "        \n",
    "    job_table = soup.select('table', id=\"wpjb-job-list\")\n",
    "    for job in job_table:\n",
    "        job_info = job.find_all('tr')\n",
    "        for job in job_info:\n",
    "            items = {}\n",
    "            items['Job Title'] = job.find('a').text\n",
    "            items['Company'] = job.find('small').text.strip()\n",
    "            items['Location'] = job.find('td',class_=\"wpjb-column-location\").text.strip().split(',')[0]\n",
    "            items['Job type'] = job.find('td',class_=\"wpjb-column-location\").text.strip().split('\\n\\n')[-1]\n",
    "            items['Date'] = job.find('td', class_=\"wpjb-column-date wpjb-last\").text.strip().split('\\n')[0]\n",
    "            items['Recency'] = job.find('td', class_=\"wpjb-column-date wpjb-last\").text.strip().split('\\n')[-1]\n",
    "            items['Link'] = job.find('a').get('href')\n",
    "            time.sleep(1)\n",
    "            job_list.append(items)\n",
    "\n",
    "# Print the number of jobs scraped\n",
    "print(f\"Total jobs scraped: {len(job_list)}\")\n"
   ]
  },
  {
   "cell_type": "code",
   "execution_count": 6,
   "id": "d3532d37-7cd2-4ce8-89cf-9e989f47ce7f",
   "metadata": {
    "editable": true,
    "slideshow": {
     "slide_type": ""
    },
    "tags": []
   },
   "outputs": [
    {
     "data": {
      "text/plain": [
       "Location\n",
       "Kampala               365\n",
       "Mukono                 29\n",
       "Bugiri                 14\n",
       "Mityana                12\n",
       "Soroti                 11\n",
       "Kakira and Kayunga      7\n",
       "Luuka                   5\n",
       "Mbarara                 5\n",
       "Jinja                   5\n",
       "Yumbe                   3\n",
       "Fort Portal             2\n",
       "Lamwo                   2\n",
       "Nwoya and Amuru         2\n",
       "Nwoya                   2\n",
       "Kyaka                   2\n",
       "Gulu                    1\n",
       "Masindi                 1\n",
       "Bukoto                  1\n",
       "Bwebajja                1\n",
       "Adjumani                1\n",
       "Terego                  1\n",
       "Kabarole                1\n",
       "Masaka                  1\n",
       "Moroto                  1\n",
       "Kiboga                  1\n",
       "Kyegegwa                1\n",
       "Nakivale                1\n",
       "Tororo                  1\n",
       "Name: count, dtype: int64"
      ]
     },
     "execution_count": 6,
     "metadata": {},
     "output_type": "execute_result"
    }
   ],
   "source": [
    "df = pd.DataFrame(job_list)\n",
    "df.drop_duplicates(subset = ['Job Title', 'Company', 'Location', 'Date'], inplace = True)\n",
    "df['Location'].value_counts()"
   ]
  },
  {
   "cell_type": "code",
   "execution_count": 8,
   "id": "fbc8e05a-e27a-4b63-b0c4-00e3edf99cad",
   "metadata": {},
   "outputs": [
    {
     "name": "stdout",
     "output_type": "stream",
     "text": [
      "From:  479    Jan, 13\n",
      "Name: Date, dtype: object\n",
      "To:  0    Jan, 20\n",
      "Name: Date, dtype: object\n"
     ]
    }
   ],
   "source": [
    "print(f\"From: \", df.iloc[-1:, 4])\n",
    "print(f\"To: \", df.iloc[:1, 4])"
   ]
  },
  {
   "cell_type": "code",
   "execution_count": 10,
   "id": "d8708cee-6376-4833-93f7-744516f5cd2a",
   "metadata": {},
   "outputs": [
    {
     "data": {
      "text/html": [
       "<div>\n",
       "<style scoped>\n",
       "    .dataframe tbody tr th:only-of-type {\n",
       "        vertical-align: middle;\n",
       "    }\n",
       "\n",
       "    .dataframe tbody tr th {\n",
       "        vertical-align: top;\n",
       "    }\n",
       "\n",
       "    .dataframe thead th {\n",
       "        text-align: right;\n",
       "    }\n",
       "</style>\n",
       "<table border=\"1\" class=\"dataframe\">\n",
       "  <thead>\n",
       "    <tr style=\"text-align: right;\">\n",
       "      <th></th>\n",
       "      <th>Job Title</th>\n",
       "      <th>Company</th>\n",
       "      <th>Location</th>\n",
       "      <th>Job type</th>\n",
       "      <th>Date</th>\n",
       "      <th>Recency</th>\n",
       "      <th>Link</th>\n",
       "    </tr>\n",
       "  </thead>\n",
       "  <tbody>\n",
       "    <tr>\n",
       "      <th>0</th>\n",
       "      <td>Chief Finance Officer</td>\n",
       "      <td>NFT Consult LTD</td>\n",
       "      <td>Kampala</td>\n",
       "      <td>Full-time</td>\n",
       "      <td>Jan, 20</td>\n",
       "      <td>New</td>\n",
       "      <td>https://everjobs.ug/job/chief-finance-officer-88/</td>\n",
       "    </tr>\n",
       "    <tr>\n",
       "      <th>1</th>\n",
       "      <td>Quality Control Analyst - Chemistry</td>\n",
       "      <td>Abacus Pharma(A) Limited</td>\n",
       "      <td>Kampala</td>\n",
       "      <td>Full-time</td>\n",
       "      <td>Jan, 20</td>\n",
       "      <td>New</td>\n",
       "      <td>https://everjobs.ug/job/quality-control-analys...</td>\n",
       "    </tr>\n",
       "    <tr>\n",
       "      <th>2</th>\n",
       "      <td>Health Information Assistant</td>\n",
       "      <td>International Rescue Committee (IRC)</td>\n",
       "      <td>Yumbe</td>\n",
       "      <td>Contract</td>\n",
       "      <td>Jan, 20</td>\n",
       "      <td>New</td>\n",
       "      <td>https://everjobs.ug/job/health-information-ass...</td>\n",
       "    </tr>\n",
       "    <tr>\n",
       "      <th>3</th>\n",
       "      <td>Finance Officer</td>\n",
       "      <td>International Rescue Committee (IRC)</td>\n",
       "      <td>Yumbe</td>\n",
       "      <td>Contract</td>\n",
       "      <td>Jan, 20</td>\n",
       "      <td>New</td>\n",
       "      <td>https://everjobs.ug/job/finance-officer-226/</td>\n",
       "    </tr>\n",
       "    <tr>\n",
       "      <th>4</th>\n",
       "      <td>Senior Lead - HR Shared Services</td>\n",
       "      <td>M-KOPA</td>\n",
       "      <td>Kampala</td>\n",
       "      <td>Full-time</td>\n",
       "      <td>Jan, 20</td>\n",
       "      <td>New</td>\n",
       "      <td>https://everjobs.ug/job/senior-lead-hr-shared-...</td>\n",
       "    </tr>\n",
       "  </tbody>\n",
       "</table>\n",
       "</div>"
      ],
      "text/plain": [
       "                             Job Title                               Company  \\\n",
       "0                Chief Finance Officer                       NFT Consult LTD   \n",
       "1  Quality Control Analyst - Chemistry              Abacus Pharma(A) Limited   \n",
       "2         Health Information Assistant  International Rescue Committee (IRC)   \n",
       "3                      Finance Officer  International Rescue Committee (IRC)   \n",
       "4     Senior Lead - HR Shared Services                                M-KOPA   \n",
       "\n",
       "  Location   Job type     Date Recency  \\\n",
       "0  Kampala  Full-time  Jan, 20     New   \n",
       "1  Kampala  Full-time  Jan, 20     New   \n",
       "2    Yumbe   Contract  Jan, 20     New   \n",
       "3    Yumbe   Contract  Jan, 20     New   \n",
       "4  Kampala  Full-time  Jan, 20     New   \n",
       "\n",
       "                                                Link  \n",
       "0  https://everjobs.ug/job/chief-finance-officer-88/  \n",
       "1  https://everjobs.ug/job/quality-control-analys...  \n",
       "2  https://everjobs.ug/job/health-information-ass...  \n",
       "3       https://everjobs.ug/job/finance-officer-226/  \n",
       "4  https://everjobs.ug/job/senior-lead-hr-shared-...  "
      ]
     },
     "execution_count": 10,
     "metadata": {},
     "output_type": "execute_result"
    }
   ],
   "source": [
    "df.head()"
   ]
  },
  {
   "cell_type": "code",
   "execution_count": 12,
   "id": "dca975c0-160f-4221-97ce-515a70de5af0",
   "metadata": {},
   "outputs": [],
   "source": [
    "fav = ['data', 'monitoring', 'analyst', 'M&E', 'teach']\n",
    "loc = ['Lira', 'Gulu', 'Soroti']\n",
    "\n",
    "df_list = []\n",
    "for i in fav:\n",
    "    data = df[(df['Job Title'].str.contains(i, case = False)) | (df['Location'].isin(loc))]\n",
    "    df_list.append(data)"
   ]
  },
  {
   "cell_type": "code",
   "execution_count": 14,
   "id": "9b9df904-1635-4d5f-94a0-36db200c7c9c",
   "metadata": {},
   "outputs": [],
   "source": [
    "my_list = pd.concat(df_list)"
   ]
  },
  {
   "cell_type": "code",
   "execution_count": 16,
   "id": "8c642f5d-b6a2-40c8-9c6b-c7aa8c2f6116",
   "metadata": {},
   "outputs": [
    {
     "data": {
      "text/html": [
       "<div>\n",
       "<style scoped>\n",
       "    .dataframe tbody tr th:only-of-type {\n",
       "        vertical-align: middle;\n",
       "    }\n",
       "\n",
       "    .dataframe tbody tr th {\n",
       "        vertical-align: top;\n",
       "    }\n",
       "\n",
       "    .dataframe thead th {\n",
       "        text-align: right;\n",
       "    }\n",
       "</style>\n",
       "<table border=\"1\" class=\"dataframe\">\n",
       "  <thead>\n",
       "    <tr style=\"text-align: right;\">\n",
       "      <th></th>\n",
       "      <th>Job Title</th>\n",
       "      <th>Company</th>\n",
       "      <th>Location</th>\n",
       "      <th>Job type</th>\n",
       "      <th>Date</th>\n",
       "      <th>Recency</th>\n",
       "      <th>Link</th>\n",
       "    </tr>\n",
       "  </thead>\n",
       "  <tbody>\n",
       "    <tr>\n",
       "      <th>9</th>\n",
       "      <td>Request for Research Proposals Research Using ...</td>\n",
       "      <td>United Nations University</td>\n",
       "      <td>Kampala</td>\n",
       "      <td>Full-time</td>\n",
       "      <td>Jan, 20</td>\n",
       "      <td>New</td>\n",
       "      <td>https://everjobs.ug/job/request-for-research-p...</td>\n",
       "    </tr>\n",
       "    <tr>\n",
       "      <th>26</th>\n",
       "      <td>Assistant Lecturer – Data Science and Artifici...</td>\n",
       "      <td>Cavendish University Uganda</td>\n",
       "      <td>Kampala</td>\n",
       "      <td>Part-time</td>\n",
       "      <td>Jan, 20</td>\n",
       "      <td>New</td>\n",
       "      <td>https://everjobs.ug/job/assistant-lecturer-dat...</td>\n",
       "    </tr>\n",
       "    <tr>\n",
       "      <th>61</th>\n",
       "      <td>Establishing the Online Data Base of the Depar...</td>\n",
       "      <td>U.S. Agency for International Development (USAID)</td>\n",
       "      <td>Kampala</td>\n",
       "      <td>Full-time</td>\n",
       "      <td>Jan, 18</td>\n",
       "      <td>New</td>\n",
       "      <td>https://everjobs.ug/job/establishing-the-onlin...</td>\n",
       "    </tr>\n",
       "    <tr>\n",
       "      <th>79</th>\n",
       "      <td>Vice President, Data Solutions</td>\n",
       "      <td>Bixal</td>\n",
       "      <td>Kampala</td>\n",
       "      <td>Full-time</td>\n",
       "      <td>Jan, 18</td>\n",
       "      <td>New</td>\n",
       "      <td>https://everjobs.ug/job/vice-president-data-so...</td>\n",
       "    </tr>\n",
       "    <tr>\n",
       "      <th>84</th>\n",
       "      <td>Data Analyst and Visualization Senior Associat...</td>\n",
       "      <td>Bixal</td>\n",
       "      <td>Kampala</td>\n",
       "      <td>Full-time</td>\n",
       "      <td>Jan, 18</td>\n",
       "      <td>New</td>\n",
       "      <td>https://everjobs.ug/job/data-analyst-and-visua...</td>\n",
       "    </tr>\n",
       "  </tbody>\n",
       "</table>\n",
       "</div>"
      ],
      "text/plain": [
       "                                            Job Title  \\\n",
       "9   Request for Research Proposals Research Using ...   \n",
       "26  Assistant Lecturer – Data Science and Artifici...   \n",
       "61  Establishing the Online Data Base of the Depar...   \n",
       "79                     Vice President, Data Solutions   \n",
       "84  Data Analyst and Visualization Senior Associat...   \n",
       "\n",
       "                                              Company Location   Job type  \\\n",
       "9                           United Nations University  Kampala  Full-time   \n",
       "26                        Cavendish University Uganda  Kampala  Part-time   \n",
       "61  U.S. Agency for International Development (USAID)  Kampala  Full-time   \n",
       "79                                              Bixal  Kampala  Full-time   \n",
       "84                                              Bixal  Kampala  Full-time   \n",
       "\n",
       "       Date Recency                                               Link  \n",
       "9   Jan, 20     New  https://everjobs.ug/job/request-for-research-p...  \n",
       "26  Jan, 20     New  https://everjobs.ug/job/assistant-lecturer-dat...  \n",
       "61  Jan, 18     New  https://everjobs.ug/job/establishing-the-onlin...  \n",
       "79  Jan, 18     New  https://everjobs.ug/job/vice-president-data-so...  \n",
       "84  Jan, 18     New  https://everjobs.ug/job/data-analyst-and-visua...  "
      ]
     },
     "execution_count": 16,
     "metadata": {},
     "output_type": "execute_result"
    }
   ],
   "source": [
    "my_list.head()"
   ]
  },
  {
   "cell_type": "code",
   "execution_count": 24,
   "id": "59abfcaa-ffcd-4f79-aa71-c7ec42fb85c5",
   "metadata": {},
   "outputs": [],
   "source": [
    "my_list.drop_duplicates(subset = ['Job Title', 'Company', 'Location', 'Date'], inplace = True)"
   ]
  },
  {
   "cell_type": "code",
   "execution_count": 26,
   "id": "fc4e54b8-791c-4817-b55a-5d3a94e3ac57",
   "metadata": {},
   "outputs": [
    {
     "data": {
      "text/plain": [
       "Location\n",
       "Kampala    25\n",
       "Soroti     11\n",
       "Mityana     2\n",
       "Gulu        1\n",
       "Kyaka       1\n",
       "Luuka       1\n",
       "Mukono      1\n",
       "Name: count, dtype: int64"
      ]
     },
     "execution_count": 26,
     "metadata": {},
     "output_type": "execute_result"
    }
   ],
   "source": [
    "# my desired location\n",
    "my_list['Location'].value_counts()"
   ]
  },
  {
   "cell_type": "code",
   "execution_count": 30,
   "id": "05d70a1b-e825-4114-b933-ded620c750b2",
   "metadata": {},
   "outputs": [],
   "source": [
    "my_list.to_excel('data_related.xlsx', index = False)"
   ]
  },
  {
   "cell_type": "code",
   "execution_count": 407,
   "id": "8126e39b-ee11-4e99-8088-a7d529aef141",
   "metadata": {
    "editable": true,
    "slideshow": {
     "slide_type": ""
    },
    "tags": []
   },
   "outputs": [],
   "source": [
    "#df.to_excel('Jobs.xlsx')"
   ]
  }
 ],
 "metadata": {
  "kernelspec": {
   "display_name": "Python 3 (ipykernel)",
   "language": "python",
   "name": "python3"
  },
  "language_info": {
   "codemirror_mode": {
    "name": "ipython",
    "version": 3
   },
   "file_extension": ".py",
   "mimetype": "text/x-python",
   "name": "python",
   "nbconvert_exporter": "python",
   "pygments_lexer": "ipython3",
   "version": "3.12.3"
  }
 },
 "nbformat": 4,
 "nbformat_minor": 5
}
