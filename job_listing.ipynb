{
 "cells": [
  {
   "cell_type": "code",
   "execution_count": 41,
   "id": "0262e84a-2c78-40ea-a7b6-252f778a6a7b",
   "metadata": {},
   "outputs": [],
   "source": [
    "import pandas as pd\n",
    "import requests\n",
    "\n",
    "from bs4 import BeautifulSoup\n",
    "import time"
   ]
  },
  {
   "cell_type": "code",
   "execution_count": 47,
   "id": "2bc8b3e1-5baf-4ed8-8f11-12b506e8d445",
   "metadata": {},
   "outputs": [
    {
     "name": "stdin",
     "output_type": "stream",
     "text": [
      "Enter a number between 1 and 20:  2\n"
     ]
    },
    {
     "name": "stdout",
     "output_type": "stream",
     "text": [
      "It may take approximately 2 munites to scrape 2 pages\n"
     ]
    },
    {
     "name": "stdin",
     "output_type": "stream",
     "text": [
      "Do you want to proceed (YES/NO) yde\n"
     ]
    },
    {
     "name": "stdout",
     "output_type": "stream",
     "text": [
      "Currently scraping: 1\n",
      "Currently scraping: 2\n",
      "Total jobs scraped: 20\n"
     ]
    }
   ],
   "source": [
    "# a while loop that will only take page numbers from 1 to 20\n",
    "while True:\n",
    "    try:\n",
    "        num = int(input('Enter a number between 1 and 20: '))\n",
    "        if num < 1 or num > 20:\n",
    "            print('Please enter a number between 1 and 20')\n",
    "        else:\n",
    "            break\n",
    "    except ValueError:\n",
    "        print('INVALID: You should enter a number')\n",
    "\n",
    "# we want to tell them it will take a while to scrape the pages\n",
    "if num > 20:\n",
    "    print(f\"Please make some coffe while we scrape {num} pages\")\n",
    "elif num > 10:\n",
    "    print(f\"It may take more than 5 minutes t0 scrape {num} pages \")\n",
    "elif num >0:\n",
    "    print(f'It may take approximately 2 munites to scrape {num} pages')\n",
    "\n",
    "#confirm if user wants to proceed\n",
    "confirm = input('Do you want to proceed (YES/NO)').strip().lower()\n",
    "if confirm.startswith('y'):\n",
    "    page_no = 1\n",
    "    job_list = []\n",
    "\n",
    "    while True:\n",
    "        print(f\"Currently scraping: {page_no}\")\n",
    "        url = 'https://everjobs.ug/page/'+str(page_no)+'/'\n",
    "        page = requests.get(url)\n",
    "        soup = BeautifulSoup(page.text, 'html.parser')\n",
    "        page_no += 1\n",
    "    \n",
    "        if page_no > num:\n",
    "            break\n",
    "            \n",
    "        job_table = soup.select('table', id=\"wpjb-job-list\")\n",
    "        for job in job_table:\n",
    "            job_info = job.find_all('tr')\n",
    "            for job in job_info:\n",
    "                try:\n",
    "                    items = {}\n",
    "                    items['Job Title'] = job.find('a').text\n",
    "                    items['Company'] = job.find('small').text.strip()\n",
    "                    items['Location'] = job.find('td',class_=\"wpjb-column-location\").text.strip().split(',')[0]\n",
    "                    items['Job type'] = job.find('td',class_=\"wpjb-column-location\").text.strip().split('\\n\\n')[-1]\n",
    "                    items['Date'] = job.find('td', class_=\"wpjb-column-date wpjb-last\").text.strip().split('\\n')[0]\n",
    "                    items['Recency'] = job.find('td', class_=\"wpjb-column-date wpjb-last\").text.strip().split('\\n')[-1]\n",
    "                    items['Link'] = job.find('a').get('href')\n",
    "                    job_list.append(items)\n",
    "                    \n",
    "                except AttributeError:\n",
    "                    print(\"Skipping an incomplete job posting.\")\n",
    "                time.sleep(1)\n",
    "    # Optional: print the number of jobs scraped\n",
    "    print(f\"Total jobs scraped: {len(job_list)}\")\n",
    "# if no, then sorry to see you go\n",
    "else:\n",
    "    print('Sorry to see you go')"
   ]
  },
  {
   "cell_type": "code",
   "execution_count": 51,
   "id": "d3532d37-7cd2-4ce8-89cf-9e989f47ce7f",
   "metadata": {
    "editable": true,
    "slideshow": {
     "slide_type": ""
    },
    "tags": []
   },
   "outputs": [
    {
     "data": {
      "text/html": [
       "<div>\n",
       "<style scoped>\n",
       "    .dataframe tbody tr th:only-of-type {\n",
       "        vertical-align: middle;\n",
       "    }\n",
       "\n",
       "    .dataframe tbody tr th {\n",
       "        vertical-align: top;\n",
       "    }\n",
       "\n",
       "    .dataframe thead th {\n",
       "        text-align: right;\n",
       "    }\n",
       "</style>\n",
       "<table border=\"1\" class=\"dataframe\">\n",
       "  <thead>\n",
       "    <tr style=\"text-align: right;\">\n",
       "      <th></th>\n",
       "      <th>Job Title</th>\n",
       "      <th>Company</th>\n",
       "      <th>Location</th>\n",
       "      <th>Job type</th>\n",
       "      <th>Date</th>\n",
       "      <th>Recency</th>\n",
       "      <th>Link</th>\n",
       "    </tr>\n",
       "  </thead>\n",
       "  <tbody>\n",
       "    <tr>\n",
       "      <th>0</th>\n",
       "      <td>Officer, Business Compliance (Managerial Role)</td>\n",
       "      <td>Stanbic Bank</td>\n",
       "      <td>Kampala</td>\n",
       "      <td>Full-time</td>\n",
       "      <td>Jan, 29</td>\n",
       "      <td>New</td>\n",
       "      <td>https://everjobs.ug/job/officer-business-compl...</td>\n",
       "    </tr>\n",
       "    <tr>\n",
       "      <th>1</th>\n",
       "      <td>Waxing Therapist</td>\n",
       "      <td>Urban Oasis Spa</td>\n",
       "      <td>Kampala</td>\n",
       "      <td>Full-time</td>\n",
       "      <td>Jan, 29</td>\n",
       "      <td>New</td>\n",
       "      <td>https://everjobs.ug/job/waxing-therapist/</td>\n",
       "    </tr>\n",
       "    <tr>\n",
       "      <th>2</th>\n",
       "      <td>Facial Technician / Esthetician</td>\n",
       "      <td>Urban Oasis Spa</td>\n",
       "      <td>Kampala</td>\n",
       "      <td>Full-time</td>\n",
       "      <td>Jan, 29</td>\n",
       "      <td>New</td>\n",
       "      <td>https://everjobs.ug/job/facial-technician-esth...</td>\n",
       "    </tr>\n",
       "    <tr>\n",
       "      <th>3</th>\n",
       "      <td>Massage Therapist</td>\n",
       "      <td>Urban Oasis Spa</td>\n",
       "      <td>Kampala</td>\n",
       "      <td>Full-time</td>\n",
       "      <td>Jan, 29</td>\n",
       "      <td>New</td>\n",
       "      <td>https://everjobs.ug/job/massage-therapist-6/</td>\n",
       "    </tr>\n",
       "    <tr>\n",
       "      <th>4</th>\n",
       "      <td>Spa Supervisor</td>\n",
       "      <td>Urban Oasis Spa</td>\n",
       "      <td>Kampala</td>\n",
       "      <td>Full-time</td>\n",
       "      <td>Jan, 29</td>\n",
       "      <td>New</td>\n",
       "      <td>https://everjobs.ug/job/spa-supervisor/</td>\n",
       "    </tr>\n",
       "  </tbody>\n",
       "</table>\n",
       "</div>"
      ],
      "text/plain": [
       "                                        Job Title          Company Location  \\\n",
       "0  Officer, Business Compliance (Managerial Role)     Stanbic Bank  Kampala   \n",
       "1                                Waxing Therapist  Urban Oasis Spa  Kampala   \n",
       "2                 Facial Technician / Esthetician  Urban Oasis Spa  Kampala   \n",
       "3                               Massage Therapist  Urban Oasis Spa  Kampala   \n",
       "4                                  Spa Supervisor  Urban Oasis Spa  Kampala   \n",
       "\n",
       "    Job type     Date Recency  \\\n",
       "0  Full-time  Jan, 29     New   \n",
       "1  Full-time  Jan, 29     New   \n",
       "2  Full-time  Jan, 29     New   \n",
       "3  Full-time  Jan, 29     New   \n",
       "4  Full-time  Jan, 29     New   \n",
       "\n",
       "                                                Link  \n",
       "0  https://everjobs.ug/job/officer-business-compl...  \n",
       "1          https://everjobs.ug/job/waxing-therapist/  \n",
       "2  https://everjobs.ug/job/facial-technician-esth...  \n",
       "3       https://everjobs.ug/job/massage-therapist-6/  \n",
       "4            https://everjobs.ug/job/spa-supervisor/  "
      ]
     },
     "execution_count": 51,
     "metadata": {},
     "output_type": "execute_result"
    }
   ],
   "source": [
    "df = pd.DataFrame(job_list)\n",
    "df.drop_duplicates(subset = ['Job Title', 'Company', 'Location', 'Date'], inplace = True)\n",
    "df.head()"
   ]
  },
  {
   "cell_type": "markdown",
   "id": "8223a0f7-7ac6-400f-b588-df46e907464a",
   "metadata": {},
   "source": [
    "### SAVE FULL JOB LIST\n",
    "uncomment the code below and open it in excel"
   ]
  },
  {
   "cell_type": "code",
   "execution_count": 55,
   "id": "e8f2b367-6757-41d1-a2f6-535ad2baccaa",
   "metadata": {},
   "outputs": [],
   "source": [
    "#df.to_excel('Jobs.xlsx')"
   ]
  }
 ],
 "metadata": {
  "kernelspec": {
   "display_name": "Python 3 (ipykernel)",
   "language": "python",
   "name": "python3"
  },
  "language_info": {
   "codemirror_mode": {
    "name": "ipython",
    "version": 3
   },
   "file_extension": ".py",
   "mimetype": "text/x-python",
   "name": "python",
   "nbconvert_exporter": "python",
   "pygments_lexer": "ipython3",
   "version": "3.12.3"
  }
 },
 "nbformat": 4,
 "nbformat_minor": 5
}
